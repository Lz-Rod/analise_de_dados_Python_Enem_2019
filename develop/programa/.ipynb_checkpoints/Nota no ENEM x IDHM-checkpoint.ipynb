{
 "cells": [
  {
   "cell_type": "markdown",
   "metadata": {},
   "source": [
    "# Nota no ENEM x IDHM"
   ]
  },
  {
   "cell_type": "code",
   "execution_count": 3,
   "metadata": {},
   "outputs": [],
   "source": [
    "import pandas as pd\n",
    "import matplotlib.pyplot as plt"
   ]
  },
  {
   "cell_type": "code",
   "execution_count": 6,
   "metadata": {},
   "outputs": [],
   "source": [
    "mediaEnemPorMunicipio = pd.read_csv(\"mediaEnemPorMunicipio.csv\", sep=\",\", index_col=0)\n",
    "#aqui eu importo o data frame e informo que não quero que ele crie a coluna de indice visto que a mesma ja foi criado no momento da exportação"
   ]
  },
  {
   "cell_type": "code",
   "execution_count": 7,
   "metadata": {},
   "outputs": [
    {
     "data": {
      "text/html": [
       "<div>\n",
       "<style scoped>\n",
       "    .dataframe tbody tr th:only-of-type {\n",
       "        vertical-align: middle;\n",
       "    }\n",
       "\n",
       "    .dataframe tbody tr th {\n",
       "        vertical-align: top;\n",
       "    }\n",
       "\n",
       "    .dataframe thead th {\n",
       "        text-align: right;\n",
       "    }\n",
       "</style>\n",
       "<table border=\"1\" class=\"dataframe\">\n",
       "  <thead>\n",
       "    <tr style=\"text-align: right;\">\n",
       "      <th></th>\n",
       "      <th>CO_MUNICIPIO_RESIDENCIA</th>\n",
       "      <th>NO_MUNICIPIO_RESIDENCIA</th>\n",
       "      <th>CO_UF_RESIDENCIA</th>\n",
       "      <th>SG_UF_RESIDENCIA</th>\n",
       "      <th>NU_NOTA_CN</th>\n",
       "      <th>NU_NOTA_CH</th>\n",
       "      <th>NU_NOTA_LC</th>\n",
       "      <th>NU_NOTA_MT</th>\n",
       "      <th>NU_NOTA_REDACAO</th>\n",
       "    </tr>\n",
       "  </thead>\n",
       "  <tbody>\n",
       "    <tr>\n",
       "      <th>0</th>\n",
       "      <td>1100015</td>\n",
       "      <td>Alta Floresta D'Oeste</td>\n",
       "      <td>11</td>\n",
       "      <td>RO</td>\n",
       "      <td>466.877454</td>\n",
       "      <td>493.412214</td>\n",
       "      <td>504.998473</td>\n",
       "      <td>503.000000</td>\n",
       "      <td>555.776081</td>\n",
       "    </tr>\n",
       "    <tr>\n",
       "      <th>1</th>\n",
       "      <td>1100023</td>\n",
       "      <td>Ariquemes</td>\n",
       "      <td>11</td>\n",
       "      <td>RO</td>\n",
       "      <td>463.542845</td>\n",
       "      <td>489.960333</td>\n",
       "      <td>506.999802</td>\n",
       "      <td>498.971037</td>\n",
       "      <td>524.149147</td>\n",
       "    </tr>\n",
       "    <tr>\n",
       "      <th>2</th>\n",
       "      <td>1100031</td>\n",
       "      <td>Cabixi</td>\n",
       "      <td>11</td>\n",
       "      <td>RO</td>\n",
       "      <td>454.453125</td>\n",
       "      <td>474.152239</td>\n",
       "      <td>486.223881</td>\n",
       "      <td>497.443750</td>\n",
       "      <td>492.835821</td>\n",
       "    </tr>\n",
       "    <tr>\n",
       "      <th>3</th>\n",
       "      <td>1100049</td>\n",
       "      <td>Cacoal</td>\n",
       "      <td>11</td>\n",
       "      <td>RO</td>\n",
       "      <td>469.165657</td>\n",
       "      <td>494.664063</td>\n",
       "      <td>510.185132</td>\n",
       "      <td>510.684635</td>\n",
       "      <td>538.657074</td>\n",
       "    </tr>\n",
       "    <tr>\n",
       "      <th>4</th>\n",
       "      <td>1100056</td>\n",
       "      <td>Cerejeiras</td>\n",
       "      <td>11</td>\n",
       "      <td>RO</td>\n",
       "      <td>468.381164</td>\n",
       "      <td>488.456536</td>\n",
       "      <td>507.604902</td>\n",
       "      <td>505.175685</td>\n",
       "      <td>552.222222</td>\n",
       "    </tr>\n",
       "  </tbody>\n",
       "</table>\n",
       "</div>"
      ],
      "text/plain": [
       "   CO_MUNICIPIO_RESIDENCIA NO_MUNICIPIO_RESIDENCIA  CO_UF_RESIDENCIA  \\\n",
       "0                  1100015   Alta Floresta D'Oeste                11   \n",
       "1                  1100023               Ariquemes                11   \n",
       "2                  1100031                  Cabixi                11   \n",
       "3                  1100049                  Cacoal                11   \n",
       "4                  1100056              Cerejeiras                11   \n",
       "\n",
       "  SG_UF_RESIDENCIA  NU_NOTA_CN  NU_NOTA_CH  NU_NOTA_LC  NU_NOTA_MT  \\\n",
       "0               RO  466.877454  493.412214  504.998473  503.000000   \n",
       "1               RO  463.542845  489.960333  506.999802  498.971037   \n",
       "2               RO  454.453125  474.152239  486.223881  497.443750   \n",
       "3               RO  469.165657  494.664063  510.185132  510.684635   \n",
       "4               RO  468.381164  488.456536  507.604902  505.175685   \n",
       "\n",
       "   NU_NOTA_REDACAO  \n",
       "0       555.776081  \n",
       "1       524.149147  \n",
       "2       492.835821  \n",
       "3       538.657074  \n",
       "4       552.222222  "
      ]
     },
     "execution_count": 7,
     "metadata": {},
     "output_type": "execute_result"
    }
   ],
   "source": [
    "mediaEnemPorMunicipio.head()"
   ]
  },
  {
   "cell_type": "code",
   "execution_count": 9,
   "metadata": {},
   "outputs": [],
   "source": [
    "atlasHumano = pd.read_csv('D:/Projetos/dadosBrutos/idhm municipios 2010.csv', sep=';')"
   ]
  },
  {
   "cell_type": "code",
   "execution_count": null,
   "metadata": {},
   "outputs": [],
   "source": []
  },
  {
   "cell_type": "code",
   "execution_count": null,
   "metadata": {},
   "outputs": [],
   "source": []
  },
  {
   "cell_type": "code",
   "execution_count": null,
   "metadata": {},
   "outputs": [],
   "source": []
  }
 ],
 "metadata": {
  "kernelspec": {
   "display_name": "Python 3",
   "language": "python",
   "name": "python3"
  },
  "language_info": {
   "codemirror_mode": {
    "name": "ipython",
    "version": 3
   },
   "file_extension": ".py",
   "mimetype": "text/x-python",
   "name": "python",
   "nbconvert_exporter": "python",
   "pygments_lexer": "ipython3",
   "version": "3.9.0"
  }
 },
 "nbformat": 4,
 "nbformat_minor": 4
}
