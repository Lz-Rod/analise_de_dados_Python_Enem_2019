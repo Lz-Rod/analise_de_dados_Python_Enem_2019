{
 "cells": [
  {
   "cell_type": "markdown",
   "metadata": {},
   "source": [
    "Análise dos Microdados do ENEM 2019"
   ]
  },
  {
   "cell_type": "code",
   "execution_count": 1,
   "metadata": {},
   "outputs": [],
   "source": [
    "import pandas as pd\n",
    "import matplotlib"
   ]
  },
  {
   "cell_type": "code",
   "execution_count": 2,
   "metadata": {},
   "outputs": [],
   "source": [
    "microdadosEnem = pd.read_csv('D:/Projetos/dadosBrutos/microdados_enem_2019/DADOS/MICRODADOS_ENEM_2019.csv', sep=';',  encoding='ISO-8859-1')"
   ]
  },
  {
   "cell_type": "code",
   "execution_count": 3,
   "metadata": {},
   "outputs": [
    {
     "data": {
      "text/html": [
       "<div>\n",
       "<style scoped>\n",
       "    .dataframe tbody tr th:only-of-type {\n",
       "        vertical-align: middle;\n",
       "    }\n",
       "\n",
       "    .dataframe tbody tr th {\n",
       "        vertical-align: top;\n",
       "    }\n",
       "\n",
       "    .dataframe thead th {\n",
       "        text-align: right;\n",
       "    }\n",
       "</style>\n",
       "<table border=\"1\" class=\"dataframe\">\n",
       "  <thead>\n",
       "    <tr style=\"text-align: right;\">\n",
       "      <th></th>\n",
       "      <th>NU_INSCRICAO</th>\n",
       "      <th>NU_ANO</th>\n",
       "      <th>CO_MUNICIPIO_RESIDENCIA</th>\n",
       "      <th>NO_MUNICIPIO_RESIDENCIA</th>\n",
       "      <th>CO_UF_RESIDENCIA</th>\n",
       "      <th>SG_UF_RESIDENCIA</th>\n",
       "      <th>NU_IDADE</th>\n",
       "      <th>TP_SEXO</th>\n",
       "      <th>TP_ESTADO_CIVIL</th>\n",
       "      <th>TP_COR_RACA</th>\n",
       "      <th>...</th>\n",
       "      <th>Q016</th>\n",
       "      <th>Q017</th>\n",
       "      <th>Q018</th>\n",
       "      <th>Q019</th>\n",
       "      <th>Q020</th>\n",
       "      <th>Q021</th>\n",
       "      <th>Q022</th>\n",
       "      <th>Q023</th>\n",
       "      <th>Q024</th>\n",
       "      <th>Q025</th>\n",
       "    </tr>\n",
       "  </thead>\n",
       "  <tbody>\n",
       "    <tr>\n",
       "      <th>0</th>\n",
       "      <td>190001004627</td>\n",
       "      <td>2019</td>\n",
       "      <td>1506807</td>\n",
       "      <td>Santarém</td>\n",
       "      <td>15</td>\n",
       "      <td>PA</td>\n",
       "      <td>21</td>\n",
       "      <td>M</td>\n",
       "      <td>1</td>\n",
       "      <td>3</td>\n",
       "      <td>...</td>\n",
       "      <td>A</td>\n",
       "      <td>A</td>\n",
       "      <td>A</td>\n",
       "      <td>C</td>\n",
       "      <td>B</td>\n",
       "      <td>A</td>\n",
       "      <td>D</td>\n",
       "      <td>A</td>\n",
       "      <td>B</td>\n",
       "      <td>A</td>\n",
       "    </tr>\n",
       "    <tr>\n",
       "      <th>1</th>\n",
       "      <td>190001004628</td>\n",
       "      <td>2019</td>\n",
       "      <td>1504059</td>\n",
       "      <td>Mãe do Rio</td>\n",
       "      <td>15</td>\n",
       "      <td>PA</td>\n",
       "      <td>16</td>\n",
       "      <td>F</td>\n",
       "      <td>1</td>\n",
       "      <td>3</td>\n",
       "      <td>...</td>\n",
       "      <td>A</td>\n",
       "      <td>A</td>\n",
       "      <td>A</td>\n",
       "      <td>B</td>\n",
       "      <td>B</td>\n",
       "      <td>A</td>\n",
       "      <td>B</td>\n",
       "      <td>A</td>\n",
       "      <td>A</td>\n",
       "      <td>A</td>\n",
       "    </tr>\n",
       "    <tr>\n",
       "      <th>2</th>\n",
       "      <td>190001004629</td>\n",
       "      <td>2019</td>\n",
       "      <td>1505502</td>\n",
       "      <td>Paragominas</td>\n",
       "      <td>15</td>\n",
       "      <td>PA</td>\n",
       "      <td>18</td>\n",
       "      <td>F</td>\n",
       "      <td>1</td>\n",
       "      <td>1</td>\n",
       "      <td>...</td>\n",
       "      <td>B</td>\n",
       "      <td>A</td>\n",
       "      <td>A</td>\n",
       "      <td>D</td>\n",
       "      <td>B</td>\n",
       "      <td>B</td>\n",
       "      <td>D</td>\n",
       "      <td>A</td>\n",
       "      <td>C</td>\n",
       "      <td>B</td>\n",
       "    </tr>\n",
       "    <tr>\n",
       "      <th>3</th>\n",
       "      <td>190001004630</td>\n",
       "      <td>2019</td>\n",
       "      <td>1507706</td>\n",
       "      <td>São Sebastião da Boa Vista</td>\n",
       "      <td>15</td>\n",
       "      <td>PA</td>\n",
       "      <td>23</td>\n",
       "      <td>M</td>\n",
       "      <td>0</td>\n",
       "      <td>3</td>\n",
       "      <td>...</td>\n",
       "      <td>A</td>\n",
       "      <td>A</td>\n",
       "      <td>A</td>\n",
       "      <td>C</td>\n",
       "      <td>A</td>\n",
       "      <td>A</td>\n",
       "      <td>D</td>\n",
       "      <td>A</td>\n",
       "      <td>A</td>\n",
       "      <td>A</td>\n",
       "    </tr>\n",
       "    <tr>\n",
       "      <th>4</th>\n",
       "      <td>190001004631</td>\n",
       "      <td>2019</td>\n",
       "      <td>1503903</td>\n",
       "      <td>Juruti</td>\n",
       "      <td>15</td>\n",
       "      <td>PA</td>\n",
       "      <td>23</td>\n",
       "      <td>M</td>\n",
       "      <td>1</td>\n",
       "      <td>3</td>\n",
       "      <td>...</td>\n",
       "      <td>A</td>\n",
       "      <td>A</td>\n",
       "      <td>A</td>\n",
       "      <td>B</td>\n",
       "      <td>A</td>\n",
       "      <td>A</td>\n",
       "      <td>D</td>\n",
       "      <td>A</td>\n",
       "      <td>A</td>\n",
       "      <td>A</td>\n",
       "    </tr>\n",
       "  </tbody>\n",
       "</table>\n",
       "<p>5 rows × 136 columns</p>\n",
       "</div>"
      ],
      "text/plain": [
       "   NU_INSCRICAO  NU_ANO  CO_MUNICIPIO_RESIDENCIA     NO_MUNICIPIO_RESIDENCIA  \\\n",
       "0  190001004627    2019                  1506807                    Santarém   \n",
       "1  190001004628    2019                  1504059                  Mãe do Rio   \n",
       "2  190001004629    2019                  1505502                 Paragominas   \n",
       "3  190001004630    2019                  1507706  São Sebastião da Boa Vista   \n",
       "4  190001004631    2019                  1503903                      Juruti   \n",
       "\n",
       "   CO_UF_RESIDENCIA SG_UF_RESIDENCIA  NU_IDADE TP_SEXO  TP_ESTADO_CIVIL  \\\n",
       "0                15               PA        21       M                1   \n",
       "1                15               PA        16       F                1   \n",
       "2                15               PA        18       F                1   \n",
       "3                15               PA        23       M                0   \n",
       "4                15               PA        23       M                1   \n",
       "\n",
       "   TP_COR_RACA  ...  Q016  Q017 Q018  Q019 Q020  Q021  Q022  Q023  Q024  Q025  \n",
       "0            3  ...     A     A    A     C    B     A     D     A     B     A  \n",
       "1            3  ...     A     A    A     B    B     A     B     A     A     A  \n",
       "2            1  ...     B     A    A     D    B     B     D     A     C     B  \n",
       "3            3  ...     A     A    A     C    A     A     D     A     A     A  \n",
       "4            3  ...     A     A    A     B    A     A     D     A     A     A  \n",
       "\n",
       "[5 rows x 136 columns]"
      ]
     },
     "execution_count": 3,
     "metadata": {},
     "output_type": "execute_result"
    }
   ],
   "source": [
    "microdadosEnem.head()"
   ]
  },
  {
   "cell_type": "code",
   "execution_count": 4,
   "metadata": {},
   "outputs": [
    {
     "data": {
      "text/plain": [
       "array(['NU_INSCRICAO', 'NU_ANO', 'CO_MUNICIPIO_RESIDENCIA',\n",
       "       'NO_MUNICIPIO_RESIDENCIA', 'CO_UF_RESIDENCIA', 'SG_UF_RESIDENCIA',\n",
       "       'NU_IDADE', 'TP_SEXO', 'TP_ESTADO_CIVIL', 'TP_COR_RACA',\n",
       "       'TP_NACIONALIDADE', 'CO_MUNICIPIO_NASCIMENTO',\n",
       "       'NO_MUNICIPIO_NASCIMENTO', 'CO_UF_NASCIMENTO', 'SG_UF_NASCIMENTO',\n",
       "       'TP_ST_CONCLUSAO', 'TP_ANO_CONCLUIU', 'TP_ESCOLA', 'TP_ENSINO',\n",
       "       'IN_TREINEIRO', 'CO_ESCOLA', 'CO_MUNICIPIO_ESC',\n",
       "       'NO_MUNICIPIO_ESC', 'CO_UF_ESC', 'SG_UF_ESC',\n",
       "       'TP_DEPENDENCIA_ADM_ESC', 'TP_LOCALIZACAO_ESC', 'TP_SIT_FUNC_ESC',\n",
       "       'IN_BAIXA_VISAO', 'IN_CEGUEIRA', 'IN_SURDEZ',\n",
       "       'IN_DEFICIENCIA_AUDITIVA', 'IN_SURDO_CEGUEIRA',\n",
       "       'IN_DEFICIENCIA_FISICA', 'IN_DEFICIENCIA_MENTAL',\n",
       "       'IN_DEFICIT_ATENCAO', 'IN_DISLEXIA', 'IN_DISCALCULIA',\n",
       "       'IN_AUTISMO', 'IN_VISAO_MONOCULAR', 'IN_OUTRA_DEF', 'IN_GESTANTE',\n",
       "       'IN_LACTANTE', 'IN_IDOSO', 'IN_ESTUDA_CLASSE_HOSPITALAR',\n",
       "       'IN_SEM_RECURSO', 'IN_BRAILLE', 'IN_AMPLIADA_24', 'IN_AMPLIADA_18',\n",
       "       'IN_LEDOR', 'IN_ACESSO', 'IN_TRANSCRICAO', 'IN_LIBRAS',\n",
       "       'IN_TEMPO_ADICIONAL', 'IN_LEITURA_LABIAL', 'IN_MESA_CADEIRA_RODAS',\n",
       "       'IN_MESA_CADEIRA_SEPARADA', 'IN_APOIO_PERNA', 'IN_GUIA_INTERPRETE',\n",
       "       'IN_COMPUTADOR', 'IN_CADEIRA_ESPECIAL', 'IN_CADEIRA_CANHOTO',\n",
       "       'IN_CADEIRA_ACOLCHOADA', 'IN_PROVA_DEITADO', 'IN_MOBILIARIO_OBESO',\n",
       "       'IN_LAMINA_OVERLAY', 'IN_PROTETOR_AURICULAR', 'IN_MEDIDOR_GLICOSE',\n",
       "       'IN_MAQUINA_BRAILE', 'IN_SOROBAN', 'IN_MARCA_PASSO', 'IN_SONDA',\n",
       "       'IN_MEDICAMENTOS', 'IN_SALA_INDIVIDUAL', 'IN_SALA_ESPECIAL',\n",
       "       'IN_SALA_ACOMPANHANTE', 'IN_MOBILIARIO_ESPECIFICO',\n",
       "       'IN_MATERIAL_ESPECIFICO', 'IN_NOME_SOCIAL', 'CO_MUNICIPIO_PROVA',\n",
       "       'NO_MUNICIPIO_PROVA', 'CO_UF_PROVA', 'SG_UF_PROVA',\n",
       "       'TP_PRESENCA_CN', 'TP_PRESENCA_CH', 'TP_PRESENCA_LC',\n",
       "       'TP_PRESENCA_MT', 'CO_PROVA_CN', 'CO_PROVA_CH', 'CO_PROVA_LC',\n",
       "       'CO_PROVA_MT', 'NU_NOTA_CN', 'NU_NOTA_CH', 'NU_NOTA_LC',\n",
       "       'NU_NOTA_MT', 'TX_RESPOSTAS_CN', 'TX_RESPOSTAS_CH',\n",
       "       'TX_RESPOSTAS_LC', 'TX_RESPOSTAS_MT', 'TP_LINGUA',\n",
       "       'TX_GABARITO_CN', 'TX_GABARITO_CH', 'TX_GABARITO_LC',\n",
       "       'TX_GABARITO_MT', 'TP_STATUS_REDACAO', 'NU_NOTA_COMP1',\n",
       "       'NU_NOTA_COMP2', 'NU_NOTA_COMP3', 'NU_NOTA_COMP4', 'NU_NOTA_COMP5',\n",
       "       'NU_NOTA_REDACAO', 'Q001', 'Q002', 'Q003', 'Q004', 'Q005', 'Q006',\n",
       "       'Q007', 'Q008', 'Q009', 'Q010', 'Q011', 'Q012', 'Q013', 'Q014',\n",
       "       'Q015', 'Q016', 'Q017', 'Q018', 'Q019', 'Q020', 'Q021', 'Q022',\n",
       "       'Q023', 'Q024', 'Q025'], dtype=object)"
      ]
     },
     "execution_count": 4,
     "metadata": {},
     "output_type": "execute_result"
    }
   ],
   "source": [
    "microdadosEnem.columns.values #retorna array com o nome de todas as colunas"
   ]
  },
  {
   "cell_type": "code",
   "execution_count": 5,
   "metadata": {},
   "outputs": [],
   "source": [
    "colunasSelecionadasEnem = ['NO_MUNICIPIO_RESIDENCIA', 'SG_UF_RESIDENCIA',\n",
    "       'NU_IDADE', 'TP_SEXO', 'TP_ESTADO_CIVIL', 'TP_COR_RACA',\n",
    "       'TP_NACIONALIDADE', 'NO_MUNICIPIO_NASCIMENTO', 'SG_UF_NASCIMENTO',\n",
    "       'IN_BAIXA_VISAO', 'IN_CEGUEIRA', 'IN_SURDEZ',\n",
    "       'IN_DEFICIENCIA_AUDITIVA', 'IN_SURDO_CEGUEIRA',\n",
    "       'IN_DEFICIENCIA_FISICA', 'IN_DEFICIENCIA_MENTAL',\n",
    "       'IN_DEFICIT_ATENCAO', 'IN_DISLEXIA', 'IN_DISCALCULIA',\n",
    "       'IN_AUTISMO', 'IN_VISAO_MONOCULAR', 'IN_OUTRA_DEF', 'IN_GESTANTE',\n",
    "       'IN_LACTANTE', 'IN_IDOSO', 'IN_ESTUDA_CLASSE_HOSPITALAR',\n",
    "       'IN_SEM_RECURSO', 'IN_BRAILLE', 'IN_AMPLIADA_24', 'IN_AMPLIADA_18',\n",
    "       'IN_LEDOR', 'IN_ACESSO', 'IN_TRANSCRICAO', 'IN_LIBRAS',\n",
    "       'IN_LEITURA_LABIAL', 'IN_MESA_CADEIRA_RODAS',\n",
    "       'IN_MESA_CADEIRA_SEPARADA', 'IN_APOIO_PERNA', 'IN_GUIA_INTERPRETE',\n",
    "       'IN_COMPUTADOR', 'IN_CADEIRA_ESPECIAL', 'IN_CADEIRA_CANHOTO',\n",
    "       'IN_CADEIRA_ACOLCHOADA', 'IN_PROVA_DEITADO', 'IN_MOBILIARIO_OBESO',\n",
    "       'IN_LAMINA_OVERLAY', 'IN_PROTETOR_AURICULAR', 'IN_MEDIDOR_GLICOSE',\n",
    "       'IN_MAQUINA_BRAILE', 'IN_SOROBAN', 'IN_MARCA_PASSO', 'IN_SONDA',\n",
    "       'IN_MEDICAMENTOS', 'IN_SALA_INDIVIDUAL', 'IN_SALA_ESPECIAL',\n",
    "       'IN_SALA_ACOMPANHANTE', 'IN_MOBILIARIO_ESPECIFICO',\n",
    "       'IN_MATERIAL_ESPECIFICO', 'IN_NOME_SOCIAL']\n",
    "#criei novo array com as colunas que irei trabalhar"
   ]
  },
  {
   "cell_type": "code",
   "execution_count": 6,
   "metadata": {},
   "outputs": [],
   "source": [
    "microdadosEnemSelecionados = microdadosEnem.filter(items=colunasSelecionadasEnem)\n",
    "#crio um novo dataset onde filtro os dados deixando somente as colunas escolhidas anteriormente"
   ]
  },
  {
   "cell_type": "code",
   "execution_count": 7,
   "metadata": {},
   "outputs": [
    {
     "data": {
      "text/html": [
       "<div>\n",
       "<style scoped>\n",
       "    .dataframe tbody tr th:only-of-type {\n",
       "        vertical-align: middle;\n",
       "    }\n",
       "\n",
       "    .dataframe tbody tr th {\n",
       "        vertical-align: top;\n",
       "    }\n",
       "\n",
       "    .dataframe thead th {\n",
       "        text-align: right;\n",
       "    }\n",
       "</style>\n",
       "<table border=\"1\" class=\"dataframe\">\n",
       "  <thead>\n",
       "    <tr style=\"text-align: right;\">\n",
       "      <th></th>\n",
       "      <th>NO_MUNICIPIO_RESIDENCIA</th>\n",
       "      <th>SG_UF_RESIDENCIA</th>\n",
       "      <th>NU_IDADE</th>\n",
       "      <th>TP_SEXO</th>\n",
       "      <th>TP_ESTADO_CIVIL</th>\n",
       "      <th>TP_COR_RACA</th>\n",
       "      <th>TP_NACIONALIDADE</th>\n",
       "      <th>NO_MUNICIPIO_NASCIMENTO</th>\n",
       "      <th>SG_UF_NASCIMENTO</th>\n",
       "      <th>IN_BAIXA_VISAO</th>\n",
       "      <th>...</th>\n",
       "      <th>IN_SOROBAN</th>\n",
       "      <th>IN_MARCA_PASSO</th>\n",
       "      <th>IN_SONDA</th>\n",
       "      <th>IN_MEDICAMENTOS</th>\n",
       "      <th>IN_SALA_INDIVIDUAL</th>\n",
       "      <th>IN_SALA_ESPECIAL</th>\n",
       "      <th>IN_SALA_ACOMPANHANTE</th>\n",
       "      <th>IN_MOBILIARIO_ESPECIFICO</th>\n",
       "      <th>IN_MATERIAL_ESPECIFICO</th>\n",
       "      <th>IN_NOME_SOCIAL</th>\n",
       "    </tr>\n",
       "  </thead>\n",
       "  <tbody>\n",
       "    <tr>\n",
       "      <th>0</th>\n",
       "      <td>Santarém</td>\n",
       "      <td>PA</td>\n",
       "      <td>21</td>\n",
       "      <td>M</td>\n",
       "      <td>1</td>\n",
       "      <td>3</td>\n",
       "      <td>4</td>\n",
       "      <td>NaN</td>\n",
       "      <td>NaN</td>\n",
       "      <td>0</td>\n",
       "      <td>...</td>\n",
       "      <td>0</td>\n",
       "      <td>0</td>\n",
       "      <td>0</td>\n",
       "      <td>0</td>\n",
       "      <td>0</td>\n",
       "      <td>0</td>\n",
       "      <td>0</td>\n",
       "      <td>0</td>\n",
       "      <td>0</td>\n",
       "      <td>0</td>\n",
       "    </tr>\n",
       "    <tr>\n",
       "      <th>1</th>\n",
       "      <td>Mãe do Rio</td>\n",
       "      <td>PA</td>\n",
       "      <td>16</td>\n",
       "      <td>F</td>\n",
       "      <td>1</td>\n",
       "      <td>3</td>\n",
       "      <td>1</td>\n",
       "      <td>Paragominas</td>\n",
       "      <td>PA</td>\n",
       "      <td>0</td>\n",
       "      <td>...</td>\n",
       "      <td>0</td>\n",
       "      <td>0</td>\n",
       "      <td>0</td>\n",
       "      <td>0</td>\n",
       "      <td>0</td>\n",
       "      <td>0</td>\n",
       "      <td>0</td>\n",
       "      <td>0</td>\n",
       "      <td>0</td>\n",
       "      <td>0</td>\n",
       "    </tr>\n",
       "    <tr>\n",
       "      <th>2</th>\n",
       "      <td>Paragominas</td>\n",
       "      <td>PA</td>\n",
       "      <td>18</td>\n",
       "      <td>F</td>\n",
       "      <td>1</td>\n",
       "      <td>1</td>\n",
       "      <td>1</td>\n",
       "      <td>Paragominas</td>\n",
       "      <td>PA</td>\n",
       "      <td>0</td>\n",
       "      <td>...</td>\n",
       "      <td>0</td>\n",
       "      <td>0</td>\n",
       "      <td>0</td>\n",
       "      <td>0</td>\n",
       "      <td>0</td>\n",
       "      <td>0</td>\n",
       "      <td>0</td>\n",
       "      <td>0</td>\n",
       "      <td>0</td>\n",
       "      <td>0</td>\n",
       "    </tr>\n",
       "    <tr>\n",
       "      <th>3</th>\n",
       "      <td>São Sebastião da Boa Vista</td>\n",
       "      <td>PA</td>\n",
       "      <td>23</td>\n",
       "      <td>M</td>\n",
       "      <td>0</td>\n",
       "      <td>3</td>\n",
       "      <td>1</td>\n",
       "      <td>Belém</td>\n",
       "      <td>PA</td>\n",
       "      <td>0</td>\n",
       "      <td>...</td>\n",
       "      <td>0</td>\n",
       "      <td>0</td>\n",
       "      <td>0</td>\n",
       "      <td>0</td>\n",
       "      <td>0</td>\n",
       "      <td>0</td>\n",
       "      <td>0</td>\n",
       "      <td>0</td>\n",
       "      <td>0</td>\n",
       "      <td>0</td>\n",
       "    </tr>\n",
       "    <tr>\n",
       "      <th>4</th>\n",
       "      <td>Juruti</td>\n",
       "      <td>PA</td>\n",
       "      <td>23</td>\n",
       "      <td>M</td>\n",
       "      <td>1</td>\n",
       "      <td>3</td>\n",
       "      <td>1</td>\n",
       "      <td>Juruti</td>\n",
       "      <td>PA</td>\n",
       "      <td>0</td>\n",
       "      <td>...</td>\n",
       "      <td>0</td>\n",
       "      <td>0</td>\n",
       "      <td>0</td>\n",
       "      <td>0</td>\n",
       "      <td>0</td>\n",
       "      <td>0</td>\n",
       "      <td>0</td>\n",
       "      <td>0</td>\n",
       "      <td>0</td>\n",
       "      <td>0</td>\n",
       "    </tr>\n",
       "  </tbody>\n",
       "</table>\n",
       "<p>5 rows × 59 columns</p>\n",
       "</div>"
      ],
      "text/plain": [
       "      NO_MUNICIPIO_RESIDENCIA SG_UF_RESIDENCIA  NU_IDADE TP_SEXO  \\\n",
       "0                    Santarém               PA        21       M   \n",
       "1                  Mãe do Rio               PA        16       F   \n",
       "2                 Paragominas               PA        18       F   \n",
       "3  São Sebastião da Boa Vista               PA        23       M   \n",
       "4                      Juruti               PA        23       M   \n",
       "\n",
       "   TP_ESTADO_CIVIL  TP_COR_RACA  TP_NACIONALIDADE NO_MUNICIPIO_NASCIMENTO  \\\n",
       "0                1            3                 4                     NaN   \n",
       "1                1            3                 1             Paragominas   \n",
       "2                1            1                 1             Paragominas   \n",
       "3                0            3                 1                   Belém   \n",
       "4                1            3                 1                  Juruti   \n",
       "\n",
       "  SG_UF_NASCIMENTO  IN_BAIXA_VISAO  ...  IN_SOROBAN  IN_MARCA_PASSO  IN_SONDA  \\\n",
       "0              NaN               0  ...           0               0         0   \n",
       "1               PA               0  ...           0               0         0   \n",
       "2               PA               0  ...           0               0         0   \n",
       "3               PA               0  ...           0               0         0   \n",
       "4               PA               0  ...           0               0         0   \n",
       "\n",
       "   IN_MEDICAMENTOS  IN_SALA_INDIVIDUAL  IN_SALA_ESPECIAL  \\\n",
       "0                0                   0                 0   \n",
       "1                0                   0                 0   \n",
       "2                0                   0                 0   \n",
       "3                0                   0                 0   \n",
       "4                0                   0                 0   \n",
       "\n",
       "   IN_SALA_ACOMPANHANTE  IN_MOBILIARIO_ESPECIFICO  IN_MATERIAL_ESPECIFICO  \\\n",
       "0                     0                         0                       0   \n",
       "1                     0                         0                       0   \n",
       "2                     0                         0                       0   \n",
       "3                     0                         0                       0   \n",
       "4                     0                         0                       0   \n",
       "\n",
       "   IN_NOME_SOCIAL  \n",
       "0               0  \n",
       "1               0  \n",
       "2               0  \n",
       "3               0  \n",
       "4               0  \n",
       "\n",
       "[5 rows x 59 columns]"
      ]
     },
     "execution_count": 7,
     "metadata": {},
     "output_type": "execute_result"
    }
   ],
   "source": [
    "microdadosEnemSelecionados.head()"
   ]
  },
  {
   "cell_type": "code",
   "execution_count": 8,
   "metadata": {},
   "outputs": [],
   "source": [
    "microdadosEnemSelecionados100 = microdadosEnemSelecionados[0:100] #crio um dataset menor com 100 registros"
   ]
  },
  {
   "cell_type": "code",
   "execution_count": 9,
   "metadata": {},
   "outputs": [],
   "source": [
    "coluna_no_municipio_residencia = microdadosEnemSelecionados['NO_MUNICIPIO_RESIDENCIA']\n",
    "#crio uma nova variável extrair somente os dados da coluna correspondente"
   ]
  },
  {
   "cell_type": "code",
   "execution_count": 10,
   "metadata": {},
   "outputs": [
    {
     "data": {
      "text/plain": [
       "0                            Santarém\n",
       "1                          Mãe do Rio\n",
       "2                         Paragominas\n",
       "3          São Sebastião da Boa Vista\n",
       "4                              Juruti\n",
       "                      ...            \n",
       "5095265                   Santo Amaro\n",
       "5095266                      Salvador\n",
       "5095267                      Tremedal\n",
       "5095268                      Salvador\n",
       "5095269                       Itabuna\n",
       "Name: NO_MUNICIPIO_RESIDENCIA, Length: 5095270, dtype: object"
      ]
     },
     "execution_count": 10,
     "metadata": {},
     "output_type": "execute_result"
    }
   ],
   "source": [
    "coluna_no_municipio_residencia"
   ]
  },
  {
   "cell_type": "code",
   "execution_count": 11,
   "metadata": {},
   "outputs": [
    {
     "data": {
      "text/plain": [
       "São Paulo          229837\n",
       "Rio de Janeiro     137762\n",
       "Brasília            94352\n",
       "Fortaleza           93959\n",
       "Salvador            88557\n",
       "                    ...  \n",
       "Canudos do Vale         9\n",
       "Pracinha                9\n",
       "Sério                   8\n",
       "Araguainha              6\n",
       "Forquetinha             5\n",
       "Name: NO_MUNICIPIO_RESIDENCIA, Length: 5299, dtype: int64"
      ]
     },
     "execution_count": 11,
     "metadata": {},
     "output_type": "execute_result"
    }
   ],
   "source": [
    "coluna_no_municipio_residencia.value_counts()\n",
    "#função value_counts() retorna exatamente a quantidade de dados que há para cada regisdtro daquela coluna"
   ]
  },
  {
   "cell_type": "code",
   "execution_count": 12,
   "metadata": {},
   "outputs": [],
   "source": [
    "coluna_idade = microdadosEnemSelecionados['NU_IDADE']"
   ]
  },
  {
   "cell_type": "code",
   "execution_count": 13,
   "metadata": {},
   "outputs": [
    {
     "data": {
      "text/plain": [
       "1     2\n",
       "2     4\n",
       "3     4\n",
       "4     2\n",
       "5     5\n",
       "     ..\n",
       "87    1\n",
       "88    1\n",
       "91    2\n",
       "92    1\n",
       "94    1\n",
       "Name: NU_IDADE, Length: 91, dtype: int64"
      ]
     },
     "execution_count": 13,
     "metadata": {},
     "output_type": "execute_result"
    }
   ],
   "source": [
    "coluna_idade.value_counts().sort_index()\n",
    "#retorno as idades ordenadas de forma crescente"
   ]
  },
  {
   "cell_type": "code",
   "execution_count": 14,
   "metadata": {},
   "outputs": [
    {
     "data": {
      "text/plain": [
       "<AxesSubplot:>"
      ]
     },
     "execution_count": 14,
     "metadata": {},
     "output_type": "execute_result"
    },
    {
     "data": {
      "image/png": "[encoded data removed]",
      "text/plain": [
       "<Figure size 432x288 with 1 Axes>"
      ]
     },
     "metadata": {
      "needs_background": "light"
     },
     "output_type": "display_data"
    }
   ],
   "source": [
    "coluna_idade.hist(bins=100)"
   ]
  },
  {
   "cell_type": "code",
   "execution_count": 15,
   "metadata": {},
   "outputs": [],
   "source": [
    "coluna_sg_uf_residencia = microdadosEnemSelecionados['SG_UF_RESIDENCIA']"
   ]
  },
  {
   "cell_type": "code",
   "execution_count": 16,
   "metadata": {},
   "outputs": [
    {
     "data": {
      "text/plain": [
       "SP    813772\n",
       "MG    538896\n",
       "BA    398095\n",
       "RJ    338710\n",
       "CE    295870\n",
       "PA    281518\n",
       "PE    271727\n",
       "MA    219673\n",
       "RS    218763\n",
       "PR    210080\n",
       "GO    170147\n",
       "PB    147780\n",
       "PI    121181\n",
       "RN    119179\n",
       "AM    118087\n",
       "SC    109515\n",
       "ES    102435\n",
       "DF     94352\n",
       "AL     91707\n",
       "MT     88349\n",
       "SE     75895\n",
       "MS     70157\n",
       "RO     58885\n",
       "TO     47181\n",
       "AP     42140\n",
       "AC     38229\n",
       "RR     12947\n",
       "Name: SG_UF_RESIDENCIA, dtype: int64"
      ]
     },
     "execution_count": 16,
     "metadata": {},
     "output_type": "execute_result"
    }
   ],
   "source": [
    "coluna_sg_uf_residencia.value_counts()"
   ]
  },
  {
   "cell_type": "code",
   "execution_count": 17,
   "metadata": {},
   "outputs": [
    {
     "data": {
      "text/plain": [
       "<AxesSubplot:>"
      ]
     },
     "execution_count": 17,
     "metadata": {},
     "output_type": "execute_result"
    },
    {
     "data": {
      "image/png": "[encoded data removed]",
      "text/plain": [
       "<Figure size 432x288 with 1 Axes>"
      ]
     },
     "metadata": {
      "needs_background": "light"
     },
     "output_type": "display_data"
    }
   ],
   "source": [
    "coluna_sg_uf_residencia.hist(bins=26)"
   ]
  },
  {
   "cell_type": "code",
   "execution_count": 18,
   "metadata": {},
   "outputs": [],
   "source": [
    "coluna_in_gestante = microdadosEnemSelecionados['IN_GESTANTE']"
   ]
  },
  {
   "cell_type": "code",
   "execution_count": 19,
   "metadata": {},
   "outputs": [
    {
     "data": {
      "text/plain": [
       "0    5093860\n",
       "1       1410\n",
       "Name: IN_GESTANTE, dtype: int64"
      ]
     },
     "execution_count": 19,
     "metadata": {},
     "output_type": "execute_result"
    }
   ],
   "source": [
    "coluna_in_gestante.value_counts()"
   ]
  },
  {
   "cell_type": "code",
   "execution_count": 20,
   "metadata": {},
   "outputs": [],
   "source": [
    "distInGestante = coluna_in_gestante.value_counts()"
   ]
  },
  {
   "cell_type": "code",
   "execution_count": 21,
   "metadata": {},
   "outputs": [],
   "source": [
    "percentInGestante = [100*x/distInGestante.sum() for x in distInGestante]\n",
    "#para celculart a porcentagem pego o número, divido pela soma de total de pessoas e multiplico por 100 para cada elemento em distInGestante"
   ]
  },
  {
   "cell_type": "code",
   "execution_count": 22,
   "metadata": {},
   "outputs": [
    {
     "data": {
      "text/plain": [
       "[99.97232727608154, 0.027672723918457705]"
      ]
     },
     "execution_count": 22,
     "metadata": {},
     "output_type": "execute_result"
    }
   ],
   "source": [
    "percentInGestante"
   ]
  },
  {
   "cell_type": "code",
   "execution_count": 23,
   "metadata": {},
   "outputs": [],
   "source": [
    "coluna_tp_sexo = microdadosEnemSelecionados['TP_SEXO']"
   ]
  },
  {
   "cell_type": "code",
   "execution_count": 24,
   "metadata": {},
   "outputs": [],
   "source": [
    "distTpSexo = coluna_tp_sexo.value_counts()"
   ]
  },
  {
   "cell_type": "code",
   "execution_count": 25,
   "metadata": {},
   "outputs": [
    {
     "data": {
      "text/plain": [
       "F    3031822\n",
       "M    2063448\n",
       "Name: TP_SEXO, dtype: int64"
      ]
     },
     "execution_count": 25,
     "metadata": {},
     "output_type": "execute_result"
    }
   ],
   "source": [
    "distTpSexo"
   ]
  },
  {
   "cell_type": "code",
   "execution_count": 26,
   "metadata": {},
   "outputs": [],
   "source": [
    "percentTpSexo = [100*x/distTpSexo.sum() for x in distTpSexo]"
   ]
  },
  {
   "cell_type": "code",
   "execution_count": 27,
   "metadata": {},
   "outputs": [
    {
     "data": {
      "text/plain": [
       "[59.50267601128105, 40.49732398871895]"
      ]
     },
     "execution_count": 27,
     "metadata": {},
     "output_type": "execute_result"
    }
   ],
   "source": [
    "percentTpSexo"
   ]
  },
  {
   "cell_type": "code",
   "execution_count": 28,
   "metadata": {},
   "outputs": [],
   "source": [
    "sexoFeminino = distTpSexo[0]#variavel recebe o numero de pessoas de sexo feminino"
   ]
  },
  {
   "cell_type": "code",
   "execution_count": 29,
   "metadata": {},
   "outputs": [],
   "source": [
    "nu_gestantes = distInGestante[1]#variavel recebe o numero de mulheres gestantes"
   ]
  },
  {
   "cell_type": "code",
   "execution_count": 30,
   "metadata": {},
   "outputs": [
    {
     "data": {
      "text/plain": [
       "3031822"
      ]
     },
     "execution_count": 30,
     "metadata": {},
     "output_type": "execute_result"
    }
   ],
   "source": [
    "sexoFeminino"
   ]
  },
  {
   "cell_type": "code",
   "execution_count": 31,
   "metadata": {},
   "outputs": [
    {
     "data": {
      "text/plain": [
       "1410"
      ]
     },
     "execution_count": 31,
     "metadata": {},
     "output_type": "execute_result"
    }
   ],
   "source": [
    "nu_gestantes"
   ]
  },
  {
   "cell_type": "code",
   "execution_count": 32,
   "metadata": {},
   "outputs": [],
   "source": [
    "percentGestantes = 100*nu_gestantes/sexoFeminino#aqui defino o percentual de mulheres gestantes"
   ]
  },
  {
   "cell_type": "code",
   "execution_count": 33,
   "metadata": {},
   "outputs": [
    {
     "data": {
      "text/plain": [
       "0.04650668805754427"
      ]
     },
     "execution_count": 33,
     "metadata": {},
     "output_type": "execute_result"
    }
   ],
   "source": [
    "percentGestantes"
   ]
  },
  {
   "cell_type": "code",
   "execution_count": 34,
   "metadata": {},
   "outputs": [],
   "source": [
    "percentNaoGestantes = 100 - percentGestantes#aqui defino o percentual de mulheres não gestantes"
   ]
  },
  {
   "cell_type": "code",
   "execution_count": 35,
   "metadata": {},
   "outputs": [
    {
     "data": {
      "text/plain": [
       "99.95349331194245"
      ]
     },
     "execution_count": 35,
     "metadata": {},
     "output_type": "execute_result"
    }
   ],
   "source": [
    "percentNaoGestantes"
   ]
  },
  {
   "cell_type": "code",
   "execution_count": 36,
   "metadata": {},
   "outputs": [],
   "source": [
    "coluna_in_cegueira = microdadosEnemSelecionados['IN_CEGUEIRA']"
   ]
  },
  {
   "cell_type": "code",
   "execution_count": 37,
   "metadata": {},
   "outputs": [
    {
     "data": {
      "text/plain": [
       "0    5094555\n",
       "1        715\n",
       "Name: IN_CEGUEIRA, dtype: int64"
      ]
     },
     "execution_count": 37,
     "metadata": {},
     "output_type": "execute_result"
    }
   ],
   "source": [
    "coluna_in_cegueira.value_counts()"
   ]
  },
  {
   "cell_type": "code",
   "execution_count": 38,
   "metadata": {},
   "outputs": [],
   "source": [
    "dataset_candidatos_cegueira = microdadosEnemSelecionados[microdadosEnemSelecionados['IN_CEGUEIRA']==1]"
   ]
  },
  {
   "cell_type": "code",
   "execution_count": 39,
   "metadata": {},
   "outputs": [
    {
     "data": {
      "text/html": [
       "<div>\n",
       "<style scoped>\n",
       "    .dataframe tbody tr th:only-of-type {\n",
       "        vertical-align: middle;\n",
       "    }\n",
       "\n",
       "    .dataframe tbody tr th {\n",
       "        vertical-align: top;\n",
       "    }\n",
       "\n",
       "    .dataframe thead th {\n",
       "        text-align: right;\n",
       "    }\n",
       "</style>\n",
       "<table border=\"1\" class=\"dataframe\">\n",
       "  <thead>\n",
       "    <tr style=\"text-align: right;\">\n",
       "      <th></th>\n",
       "      <th>NO_MUNICIPIO_RESIDENCIA</th>\n",
       "      <th>SG_UF_RESIDENCIA</th>\n",
       "      <th>NU_IDADE</th>\n",
       "      <th>TP_SEXO</th>\n",
       "      <th>TP_ESTADO_CIVIL</th>\n",
       "      <th>TP_COR_RACA</th>\n",
       "      <th>TP_NACIONALIDADE</th>\n",
       "      <th>NO_MUNICIPIO_NASCIMENTO</th>\n",
       "      <th>SG_UF_NASCIMENTO</th>\n",
       "      <th>IN_BAIXA_VISAO</th>\n",
       "      <th>...</th>\n",
       "      <th>IN_SOROBAN</th>\n",
       "      <th>IN_MARCA_PASSO</th>\n",
       "      <th>IN_SONDA</th>\n",
       "      <th>IN_MEDICAMENTOS</th>\n",
       "      <th>IN_SALA_INDIVIDUAL</th>\n",
       "      <th>IN_SALA_ESPECIAL</th>\n",
       "      <th>IN_SALA_ACOMPANHANTE</th>\n",
       "      <th>IN_MOBILIARIO_ESPECIFICO</th>\n",
       "      <th>IN_MATERIAL_ESPECIFICO</th>\n",
       "      <th>IN_NOME_SOCIAL</th>\n",
       "    </tr>\n",
       "  </thead>\n",
       "  <tbody>\n",
       "    <tr>\n",
       "      <th>16363</th>\n",
       "      <td>Benevides</td>\n",
       "      <td>PA</td>\n",
       "      <td>17</td>\n",
       "      <td>F</td>\n",
       "      <td>1</td>\n",
       "      <td>3</td>\n",
       "      <td>1</td>\n",
       "      <td>Benevides</td>\n",
       "      <td>PA</td>\n",
       "      <td>0</td>\n",
       "      <td>...</td>\n",
       "      <td>0</td>\n",
       "      <td>0</td>\n",
       "      <td>0</td>\n",
       "      <td>0</td>\n",
       "      <td>0</td>\n",
       "      <td>0</td>\n",
       "      <td>0</td>\n",
       "      <td>0</td>\n",
       "      <td>0</td>\n",
       "      <td>0</td>\n",
       "    </tr>\n",
       "    <tr>\n",
       "      <th>20622</th>\n",
       "      <td>Vilhena</td>\n",
       "      <td>RO</td>\n",
       "      <td>27</td>\n",
       "      <td>F</td>\n",
       "      <td>1</td>\n",
       "      <td>1</td>\n",
       "      <td>1</td>\n",
       "      <td>Vilhena</td>\n",
       "      <td>RO</td>\n",
       "      <td>0</td>\n",
       "      <td>...</td>\n",
       "      <td>0</td>\n",
       "      <td>0</td>\n",
       "      <td>0</td>\n",
       "      <td>0</td>\n",
       "      <td>0</td>\n",
       "      <td>0</td>\n",
       "      <td>0</td>\n",
       "      <td>0</td>\n",
       "      <td>0</td>\n",
       "      <td>0</td>\n",
       "    </tr>\n",
       "    <tr>\n",
       "      <th>39227</th>\n",
       "      <td>Marabá</td>\n",
       "      <td>PA</td>\n",
       "      <td>20</td>\n",
       "      <td>F</td>\n",
       "      <td>1</td>\n",
       "      <td>3</td>\n",
       "      <td>1</td>\n",
       "      <td>Marabá</td>\n",
       "      <td>PA</td>\n",
       "      <td>0</td>\n",
       "      <td>...</td>\n",
       "      <td>0</td>\n",
       "      <td>0</td>\n",
       "      <td>0</td>\n",
       "      <td>0</td>\n",
       "      <td>0</td>\n",
       "      <td>0</td>\n",
       "      <td>0</td>\n",
       "      <td>0</td>\n",
       "      <td>0</td>\n",
       "      <td>0</td>\n",
       "    </tr>\n",
       "    <tr>\n",
       "      <th>45133</th>\n",
       "      <td>Alenquer</td>\n",
       "      <td>PA</td>\n",
       "      <td>26</td>\n",
       "      <td>F</td>\n",
       "      <td>1</td>\n",
       "      <td>3</td>\n",
       "      <td>1</td>\n",
       "      <td>Santarém</td>\n",
       "      <td>PA</td>\n",
       "      <td>0</td>\n",
       "      <td>...</td>\n",
       "      <td>0</td>\n",
       "      <td>0</td>\n",
       "      <td>0</td>\n",
       "      <td>0</td>\n",
       "      <td>0</td>\n",
       "      <td>0</td>\n",
       "      <td>0</td>\n",
       "      <td>0</td>\n",
       "      <td>0</td>\n",
       "      <td>0</td>\n",
       "    </tr>\n",
       "    <tr>\n",
       "      <th>51574</th>\n",
       "      <td>Bragança</td>\n",
       "      <td>PA</td>\n",
       "      <td>29</td>\n",
       "      <td>F</td>\n",
       "      <td>1</td>\n",
       "      <td>1</td>\n",
       "      <td>1</td>\n",
       "      <td>Bragança</td>\n",
       "      <td>PA</td>\n",
       "      <td>0</td>\n",
       "      <td>...</td>\n",
       "      <td>0</td>\n",
       "      <td>0</td>\n",
       "      <td>0</td>\n",
       "      <td>0</td>\n",
       "      <td>0</td>\n",
       "      <td>0</td>\n",
       "      <td>0</td>\n",
       "      <td>0</td>\n",
       "      <td>0</td>\n",
       "      <td>0</td>\n",
       "    </tr>\n",
       "    <tr>\n",
       "      <th>...</th>\n",
       "      <td>...</td>\n",
       "      <td>...</td>\n",
       "      <td>...</td>\n",
       "      <td>...</td>\n",
       "      <td>...</td>\n",
       "      <td>...</td>\n",
       "      <td>...</td>\n",
       "      <td>...</td>\n",
       "      <td>...</td>\n",
       "      <td>...</td>\n",
       "      <td>...</td>\n",
       "      <td>...</td>\n",
       "      <td>...</td>\n",
       "      <td>...</td>\n",
       "      <td>...</td>\n",
       "      <td>...</td>\n",
       "      <td>...</td>\n",
       "      <td>...</td>\n",
       "      <td>...</td>\n",
       "      <td>...</td>\n",
       "      <td>...</td>\n",
       "    </tr>\n",
       "    <tr>\n",
       "      <th>5065619</th>\n",
       "      <td>Niterói</td>\n",
       "      <td>RJ</td>\n",
       "      <td>36</td>\n",
       "      <td>F</td>\n",
       "      <td>1</td>\n",
       "      <td>2</td>\n",
       "      <td>1</td>\n",
       "      <td>Niterói</td>\n",
       "      <td>RJ</td>\n",
       "      <td>0</td>\n",
       "      <td>...</td>\n",
       "      <td>0</td>\n",
       "      <td>0</td>\n",
       "      <td>0</td>\n",
       "      <td>0</td>\n",
       "      <td>0</td>\n",
       "      <td>0</td>\n",
       "      <td>0</td>\n",
       "      <td>0</td>\n",
       "      <td>0</td>\n",
       "      <td>0</td>\n",
       "    </tr>\n",
       "    <tr>\n",
       "      <th>5073647</th>\n",
       "      <td>Duque de Caxias</td>\n",
       "      <td>RJ</td>\n",
       "      <td>19</td>\n",
       "      <td>F</td>\n",
       "      <td>1</td>\n",
       "      <td>3</td>\n",
       "      <td>1</td>\n",
       "      <td>Nilópolis</td>\n",
       "      <td>RJ</td>\n",
       "      <td>0</td>\n",
       "      <td>...</td>\n",
       "      <td>0</td>\n",
       "      <td>0</td>\n",
       "      <td>0</td>\n",
       "      <td>0</td>\n",
       "      <td>0</td>\n",
       "      <td>0</td>\n",
       "      <td>0</td>\n",
       "      <td>0</td>\n",
       "      <td>0</td>\n",
       "      <td>0</td>\n",
       "    </tr>\n",
       "    <tr>\n",
       "      <th>5077099</th>\n",
       "      <td>Orobó</td>\n",
       "      <td>PE</td>\n",
       "      <td>21</td>\n",
       "      <td>M</td>\n",
       "      <td>1</td>\n",
       "      <td>1</td>\n",
       "      <td>1</td>\n",
       "      <td>Orobó</td>\n",
       "      <td>PE</td>\n",
       "      <td>0</td>\n",
       "      <td>...</td>\n",
       "      <td>0</td>\n",
       "      <td>0</td>\n",
       "      <td>0</td>\n",
       "      <td>0</td>\n",
       "      <td>0</td>\n",
       "      <td>0</td>\n",
       "      <td>0</td>\n",
       "      <td>0</td>\n",
       "      <td>0</td>\n",
       "      <td>0</td>\n",
       "    </tr>\n",
       "    <tr>\n",
       "      <th>5077104</th>\n",
       "      <td>Juazeiro</td>\n",
       "      <td>BA</td>\n",
       "      <td>38</td>\n",
       "      <td>M</td>\n",
       "      <td>1</td>\n",
       "      <td>2</td>\n",
       "      <td>1</td>\n",
       "      <td>Simões</td>\n",
       "      <td>PI</td>\n",
       "      <td>0</td>\n",
       "      <td>...</td>\n",
       "      <td>0</td>\n",
       "      <td>0</td>\n",
       "      <td>0</td>\n",
       "      <td>0</td>\n",
       "      <td>0</td>\n",
       "      <td>0</td>\n",
       "      <td>0</td>\n",
       "      <td>0</td>\n",
       "      <td>0</td>\n",
       "      <td>0</td>\n",
       "    </tr>\n",
       "    <tr>\n",
       "      <th>5078408</th>\n",
       "      <td>São José dos Pinhais</td>\n",
       "      <td>PR</td>\n",
       "      <td>18</td>\n",
       "      <td>M</td>\n",
       "      <td>1</td>\n",
       "      <td>1</td>\n",
       "      <td>2</td>\n",
       "      <td>NaN</td>\n",
       "      <td>NaN</td>\n",
       "      <td>0</td>\n",
       "      <td>...</td>\n",
       "      <td>0</td>\n",
       "      <td>0</td>\n",
       "      <td>0</td>\n",
       "      <td>0</td>\n",
       "      <td>0</td>\n",
       "      <td>0</td>\n",
       "      <td>0</td>\n",
       "      <td>0</td>\n",
       "      <td>0</td>\n",
       "      <td>0</td>\n",
       "    </tr>\n",
       "  </tbody>\n",
       "</table>\n",
       "<p>715 rows × 59 columns</p>\n",
       "</div>"
      ],
      "text/plain": [
       "        NO_MUNICIPIO_RESIDENCIA SG_UF_RESIDENCIA  NU_IDADE TP_SEXO  \\\n",
       "16363                 Benevides               PA        17       F   \n",
       "20622                   Vilhena               RO        27       F   \n",
       "39227                    Marabá               PA        20       F   \n",
       "45133                  Alenquer               PA        26       F   \n",
       "51574                  Bragança               PA        29       F   \n",
       "...                         ...              ...       ...     ...   \n",
       "5065619                 Niterói               RJ        36       F   \n",
       "5073647         Duque de Caxias               RJ        19       F   \n",
       "5077099                   Orobó               PE        21       M   \n",
       "5077104                Juazeiro               BA        38       M   \n",
       "5078408    São José dos Pinhais               PR        18       M   \n",
       "\n",
       "         TP_ESTADO_CIVIL  TP_COR_RACA  TP_NACIONALIDADE  \\\n",
       "16363                  1            3                 1   \n",
       "20622                  1            1                 1   \n",
       "39227                  1            3                 1   \n",
       "45133                  1            3                 1   \n",
       "51574                  1            1                 1   \n",
       "...                  ...          ...               ...   \n",
       "5065619                1            2                 1   \n",
       "5073647                1            3                 1   \n",
       "5077099                1            1                 1   \n",
       "5077104                1            2                 1   \n",
       "5078408                1            1                 2   \n",
       "\n",
       "        NO_MUNICIPIO_NASCIMENTO SG_UF_NASCIMENTO  IN_BAIXA_VISAO  ...  \\\n",
       "16363                 Benevides               PA               0  ...   \n",
       "20622                   Vilhena               RO               0  ...   \n",
       "39227                    Marabá               PA               0  ...   \n",
       "45133                  Santarém               PA               0  ...   \n",
       "51574                  Bragança               PA               0  ...   \n",
       "...                         ...              ...             ...  ...   \n",
       "5065619                 Niterói               RJ               0  ...   \n",
       "5073647               Nilópolis               RJ               0  ...   \n",
       "5077099                   Orobó               PE               0  ...   \n",
       "5077104                  Simões               PI               0  ...   \n",
       "5078408                     NaN              NaN               0  ...   \n",
       "\n",
       "         IN_SOROBAN  IN_MARCA_PASSO  IN_SONDA  IN_MEDICAMENTOS  \\\n",
       "16363             0               0         0                0   \n",
       "20622             0               0         0                0   \n",
       "39227             0               0         0                0   \n",
       "45133             0               0         0                0   \n",
       "51574             0               0         0                0   \n",
       "...             ...             ...       ...              ...   \n",
       "5065619           0               0         0                0   \n",
       "5073647           0               0         0                0   \n",
       "5077099           0               0         0                0   \n",
       "5077104           0               0         0                0   \n",
       "5078408           0               0         0                0   \n",
       "\n",
       "         IN_SALA_INDIVIDUAL  IN_SALA_ESPECIAL  IN_SALA_ACOMPANHANTE  \\\n",
       "16363                     0                 0                     0   \n",
       "20622                     0                 0                     0   \n",
       "39227                     0                 0                     0   \n",
       "45133                     0                 0                     0   \n",
       "51574                     0                 0                     0   \n",
       "...                     ...               ...                   ...   \n",
       "5065619                   0                 0                     0   \n",
       "5073647                   0                 0                     0   \n",
       "5077099                   0                 0                     0   \n",
       "5077104                   0                 0                     0   \n",
       "5078408                   0                 0                     0   \n",
       "\n",
       "         IN_MOBILIARIO_ESPECIFICO  IN_MATERIAL_ESPECIFICO  IN_NOME_SOCIAL  \n",
       "16363                           0                       0               0  \n",
       "20622                           0                       0               0  \n",
       "39227                           0                       0               0  \n",
       "45133                           0                       0               0  \n",
       "51574                           0                       0               0  \n",
       "...                           ...                     ...             ...  \n",
       "5065619                         0                       0               0  \n",
       "5073647                         0                       0               0  \n",
       "5077099                         0                       0               0  \n",
       "5077104                         0                       0               0  \n",
       "5078408                         0                       0               0  \n",
       "\n",
       "[715 rows x 59 columns]"
      ]
     },
     "execution_count": 39,
     "metadata": {},
     "output_type": "execute_result"
    }
   ],
   "source": [
    "dataset_candidatos_cegueira"
   ]
  },
  {
   "cell_type": "code",
   "execution_count": 40,
   "metadata": {},
   "outputs": [],
   "source": [
    "mulheres_cegueira = dataset_candidatos_cegueira[dataset_candidatos_cegueira['TP_SEXO'] == 'F']"
   ]
  },
  {
   "cell_type": "code",
   "execution_count": 41,
   "metadata": {},
   "outputs": [
    {
     "data": {
      "text/html": [
       "<div>\n",
       "<style scoped>\n",
       "    .dataframe tbody tr th:only-of-type {\n",
       "        vertical-align: middle;\n",
       "    }\n",
       "\n",
       "    .dataframe tbody tr th {\n",
       "        vertical-align: top;\n",
       "    }\n",
       "\n",
       "    .dataframe thead th {\n",
       "        text-align: right;\n",
       "    }\n",
       "</style>\n",
       "<table border=\"1\" class=\"dataframe\">\n",
       "  <thead>\n",
       "    <tr style=\"text-align: right;\">\n",
       "      <th></th>\n",
       "      <th>NO_MUNICIPIO_RESIDENCIA</th>\n",
       "      <th>SG_UF_RESIDENCIA</th>\n",
       "      <th>NU_IDADE</th>\n",
       "      <th>TP_SEXO</th>\n",
       "      <th>TP_ESTADO_CIVIL</th>\n",
       "      <th>TP_COR_RACA</th>\n",
       "      <th>TP_NACIONALIDADE</th>\n",
       "      <th>NO_MUNICIPIO_NASCIMENTO</th>\n",
       "      <th>SG_UF_NASCIMENTO</th>\n",
       "      <th>IN_BAIXA_VISAO</th>\n",
       "      <th>...</th>\n",
       "      <th>IN_SOROBAN</th>\n",
       "      <th>IN_MARCA_PASSO</th>\n",
       "      <th>IN_SONDA</th>\n",
       "      <th>IN_MEDICAMENTOS</th>\n",
       "      <th>IN_SALA_INDIVIDUAL</th>\n",
       "      <th>IN_SALA_ESPECIAL</th>\n",
       "      <th>IN_SALA_ACOMPANHANTE</th>\n",
       "      <th>IN_MOBILIARIO_ESPECIFICO</th>\n",
       "      <th>IN_MATERIAL_ESPECIFICO</th>\n",
       "      <th>IN_NOME_SOCIAL</th>\n",
       "    </tr>\n",
       "  </thead>\n",
       "  <tbody>\n",
       "    <tr>\n",
       "      <th>16363</th>\n",
       "      <td>Benevides</td>\n",
       "      <td>PA</td>\n",
       "      <td>17</td>\n",
       "      <td>F</td>\n",
       "      <td>1</td>\n",
       "      <td>3</td>\n",
       "      <td>1</td>\n",
       "      <td>Benevides</td>\n",
       "      <td>PA</td>\n",
       "      <td>0</td>\n",
       "      <td>...</td>\n",
       "      <td>0</td>\n",
       "      <td>0</td>\n",
       "      <td>0</td>\n",
       "      <td>0</td>\n",
       "      <td>0</td>\n",
       "      <td>0</td>\n",
       "      <td>0</td>\n",
       "      <td>0</td>\n",
       "      <td>0</td>\n",
       "      <td>0</td>\n",
       "    </tr>\n",
       "    <tr>\n",
       "      <th>20622</th>\n",
       "      <td>Vilhena</td>\n",
       "      <td>RO</td>\n",
       "      <td>27</td>\n",
       "      <td>F</td>\n",
       "      <td>1</td>\n",
       "      <td>1</td>\n",
       "      <td>1</td>\n",
       "      <td>Vilhena</td>\n",
       "      <td>RO</td>\n",
       "      <td>0</td>\n",
       "      <td>...</td>\n",
       "      <td>0</td>\n",
       "      <td>0</td>\n",
       "      <td>0</td>\n",
       "      <td>0</td>\n",
       "      <td>0</td>\n",
       "      <td>0</td>\n",
       "      <td>0</td>\n",
       "      <td>0</td>\n",
       "      <td>0</td>\n",
       "      <td>0</td>\n",
       "    </tr>\n",
       "    <tr>\n",
       "      <th>39227</th>\n",
       "      <td>Marabá</td>\n",
       "      <td>PA</td>\n",
       "      <td>20</td>\n",
       "      <td>F</td>\n",
       "      <td>1</td>\n",
       "      <td>3</td>\n",
       "      <td>1</td>\n",
       "      <td>Marabá</td>\n",
       "      <td>PA</td>\n",
       "      <td>0</td>\n",
       "      <td>...</td>\n",
       "      <td>0</td>\n",
       "      <td>0</td>\n",
       "      <td>0</td>\n",
       "      <td>0</td>\n",
       "      <td>0</td>\n",
       "      <td>0</td>\n",
       "      <td>0</td>\n",
       "      <td>0</td>\n",
       "      <td>0</td>\n",
       "      <td>0</td>\n",
       "    </tr>\n",
       "    <tr>\n",
       "      <th>45133</th>\n",
       "      <td>Alenquer</td>\n",
       "      <td>PA</td>\n",
       "      <td>26</td>\n",
       "      <td>F</td>\n",
       "      <td>1</td>\n",
       "      <td>3</td>\n",
       "      <td>1</td>\n",
       "      <td>Santarém</td>\n",
       "      <td>PA</td>\n",
       "      <td>0</td>\n",
       "      <td>...</td>\n",
       "      <td>0</td>\n",
       "      <td>0</td>\n",
       "      <td>0</td>\n",
       "      <td>0</td>\n",
       "      <td>0</td>\n",
       "      <td>0</td>\n",
       "      <td>0</td>\n",
       "      <td>0</td>\n",
       "      <td>0</td>\n",
       "      <td>0</td>\n",
       "    </tr>\n",
       "    <tr>\n",
       "      <th>51574</th>\n",
       "      <td>Bragança</td>\n",
       "      <td>PA</td>\n",
       "      <td>29</td>\n",
       "      <td>F</td>\n",
       "      <td>1</td>\n",
       "      <td>1</td>\n",
       "      <td>1</td>\n",
       "      <td>Bragança</td>\n",
       "      <td>PA</td>\n",
       "      <td>0</td>\n",
       "      <td>...</td>\n",
       "      <td>0</td>\n",
       "      <td>0</td>\n",
       "      <td>0</td>\n",
       "      <td>0</td>\n",
       "      <td>0</td>\n",
       "      <td>0</td>\n",
       "      <td>0</td>\n",
       "      <td>0</td>\n",
       "      <td>0</td>\n",
       "      <td>0</td>\n",
       "    </tr>\n",
       "    <tr>\n",
       "      <th>...</th>\n",
       "      <td>...</td>\n",
       "      <td>...</td>\n",
       "      <td>...</td>\n",
       "      <td>...</td>\n",
       "      <td>...</td>\n",
       "      <td>...</td>\n",
       "      <td>...</td>\n",
       "      <td>...</td>\n",
       "      <td>...</td>\n",
       "      <td>...</td>\n",
       "      <td>...</td>\n",
       "      <td>...</td>\n",
       "      <td>...</td>\n",
       "      <td>...</td>\n",
       "      <td>...</td>\n",
       "      <td>...</td>\n",
       "      <td>...</td>\n",
       "      <td>...</td>\n",
       "      <td>...</td>\n",
       "      <td>...</td>\n",
       "      <td>...</td>\n",
       "    </tr>\n",
       "    <tr>\n",
       "      <th>5057942</th>\n",
       "      <td>Campos dos Goytacazes</td>\n",
       "      <td>RJ</td>\n",
       "      <td>26</td>\n",
       "      <td>F</td>\n",
       "      <td>1</td>\n",
       "      <td>1</td>\n",
       "      <td>1</td>\n",
       "      <td>Campos dos Goytacazes</td>\n",
       "      <td>RJ</td>\n",
       "      <td>0</td>\n",
       "      <td>...</td>\n",
       "      <td>0</td>\n",
       "      <td>0</td>\n",
       "      <td>0</td>\n",
       "      <td>0</td>\n",
       "      <td>0</td>\n",
       "      <td>0</td>\n",
       "      <td>0</td>\n",
       "      <td>0</td>\n",
       "      <td>0</td>\n",
       "      <td>0</td>\n",
       "    </tr>\n",
       "    <tr>\n",
       "      <th>5059333</th>\n",
       "      <td>Brasília</td>\n",
       "      <td>DF</td>\n",
       "      <td>61</td>\n",
       "      <td>F</td>\n",
       "      <td>1</td>\n",
       "      <td>2</td>\n",
       "      <td>1</td>\n",
       "      <td>Floriano</td>\n",
       "      <td>PI</td>\n",
       "      <td>0</td>\n",
       "      <td>...</td>\n",
       "      <td>0</td>\n",
       "      <td>0</td>\n",
       "      <td>0</td>\n",
       "      <td>0</td>\n",
       "      <td>0</td>\n",
       "      <td>0</td>\n",
       "      <td>0</td>\n",
       "      <td>0</td>\n",
       "      <td>0</td>\n",
       "      <td>0</td>\n",
       "    </tr>\n",
       "    <tr>\n",
       "      <th>5064629</th>\n",
       "      <td>Teresópolis</td>\n",
       "      <td>RJ</td>\n",
       "      <td>36</td>\n",
       "      <td>F</td>\n",
       "      <td>2</td>\n",
       "      <td>2</td>\n",
       "      <td>1</td>\n",
       "      <td>Teresópolis</td>\n",
       "      <td>RJ</td>\n",
       "      <td>0</td>\n",
       "      <td>...</td>\n",
       "      <td>0</td>\n",
       "      <td>0</td>\n",
       "      <td>0</td>\n",
       "      <td>0</td>\n",
       "      <td>0</td>\n",
       "      <td>0</td>\n",
       "      <td>0</td>\n",
       "      <td>0</td>\n",
       "      <td>0</td>\n",
       "      <td>0</td>\n",
       "    </tr>\n",
       "    <tr>\n",
       "      <th>5065619</th>\n",
       "      <td>Niterói</td>\n",
       "      <td>RJ</td>\n",
       "      <td>36</td>\n",
       "      <td>F</td>\n",
       "      <td>1</td>\n",
       "      <td>2</td>\n",
       "      <td>1</td>\n",
       "      <td>Niterói</td>\n",
       "      <td>RJ</td>\n",
       "      <td>0</td>\n",
       "      <td>...</td>\n",
       "      <td>0</td>\n",
       "      <td>0</td>\n",
       "      <td>0</td>\n",
       "      <td>0</td>\n",
       "      <td>0</td>\n",
       "      <td>0</td>\n",
       "      <td>0</td>\n",
       "      <td>0</td>\n",
       "      <td>0</td>\n",
       "      <td>0</td>\n",
       "    </tr>\n",
       "    <tr>\n",
       "      <th>5073647</th>\n",
       "      <td>Duque de Caxias</td>\n",
       "      <td>RJ</td>\n",
       "      <td>19</td>\n",
       "      <td>F</td>\n",
       "      <td>1</td>\n",
       "      <td>3</td>\n",
       "      <td>1</td>\n",
       "      <td>Nilópolis</td>\n",
       "      <td>RJ</td>\n",
       "      <td>0</td>\n",
       "      <td>...</td>\n",
       "      <td>0</td>\n",
       "      <td>0</td>\n",
       "      <td>0</td>\n",
       "      <td>0</td>\n",
       "      <td>0</td>\n",
       "      <td>0</td>\n",
       "      <td>0</td>\n",
       "      <td>0</td>\n",
       "      <td>0</td>\n",
       "      <td>0</td>\n",
       "    </tr>\n",
       "  </tbody>\n",
       "</table>\n",
       "<p>319 rows × 59 columns</p>\n",
       "</div>"
      ],
      "text/plain": [
       "        NO_MUNICIPIO_RESIDENCIA SG_UF_RESIDENCIA  NU_IDADE TP_SEXO  \\\n",
       "16363                 Benevides               PA        17       F   \n",
       "20622                   Vilhena               RO        27       F   \n",
       "39227                    Marabá               PA        20       F   \n",
       "45133                  Alenquer               PA        26       F   \n",
       "51574                  Bragança               PA        29       F   \n",
       "...                         ...              ...       ...     ...   \n",
       "5057942   Campos dos Goytacazes               RJ        26       F   \n",
       "5059333                Brasília               DF        61       F   \n",
       "5064629             Teresópolis               RJ        36       F   \n",
       "5065619                 Niterói               RJ        36       F   \n",
       "5073647         Duque de Caxias               RJ        19       F   \n",
       "\n",
       "         TP_ESTADO_CIVIL  TP_COR_RACA  TP_NACIONALIDADE  \\\n",
       "16363                  1            3                 1   \n",
       "20622                  1            1                 1   \n",
       "39227                  1            3                 1   \n",
       "45133                  1            3                 1   \n",
       "51574                  1            1                 1   \n",
       "...                  ...          ...               ...   \n",
       "5057942                1            1                 1   \n",
       "5059333                1            2                 1   \n",
       "5064629                2            2                 1   \n",
       "5065619                1            2                 1   \n",
       "5073647                1            3                 1   \n",
       "\n",
       "        NO_MUNICIPIO_NASCIMENTO SG_UF_NASCIMENTO  IN_BAIXA_VISAO  ...  \\\n",
       "16363                 Benevides               PA               0  ...   \n",
       "20622                   Vilhena               RO               0  ...   \n",
       "39227                    Marabá               PA               0  ...   \n",
       "45133                  Santarém               PA               0  ...   \n",
       "51574                  Bragança               PA               0  ...   \n",
       "...                         ...              ...             ...  ...   \n",
       "5057942   Campos dos Goytacazes               RJ               0  ...   \n",
       "5059333                Floriano               PI               0  ...   \n",
       "5064629             Teresópolis               RJ               0  ...   \n",
       "5065619                 Niterói               RJ               0  ...   \n",
       "5073647               Nilópolis               RJ               0  ...   \n",
       "\n",
       "         IN_SOROBAN  IN_MARCA_PASSO  IN_SONDA  IN_MEDICAMENTOS  \\\n",
       "16363             0               0         0                0   \n",
       "20622             0               0         0                0   \n",
       "39227             0               0         0                0   \n",
       "45133             0               0         0                0   \n",
       "51574             0               0         0                0   \n",
       "...             ...             ...       ...              ...   \n",
       "5057942           0               0         0                0   \n",
       "5059333           0               0         0                0   \n",
       "5064629           0               0         0                0   \n",
       "5065619           0               0         0                0   \n",
       "5073647           0               0         0                0   \n",
       "\n",
       "         IN_SALA_INDIVIDUAL  IN_SALA_ESPECIAL  IN_SALA_ACOMPANHANTE  \\\n",
       "16363                     0                 0                     0   \n",
       "20622                     0                 0                     0   \n",
       "39227                     0                 0                     0   \n",
       "45133                     0                 0                     0   \n",
       "51574                     0                 0                     0   \n",
       "...                     ...               ...                   ...   \n",
       "5057942                   0                 0                     0   \n",
       "5059333                   0                 0                     0   \n",
       "5064629                   0                 0                     0   \n",
       "5065619                   0                 0                     0   \n",
       "5073647                   0                 0                     0   \n",
       "\n",
       "         IN_MOBILIARIO_ESPECIFICO  IN_MATERIAL_ESPECIFICO  IN_NOME_SOCIAL  \n",
       "16363                           0                       0               0  \n",
       "20622                           0                       0               0  \n",
       "39227                           0                       0               0  \n",
       "45133                           0                       0               0  \n",
       "51574                           0                       0               0  \n",
       "...                           ...                     ...             ...  \n",
       "5057942                         0                       0               0  \n",
       "5059333                         0                       0               0  \n",
       "5064629                         0                       0               0  \n",
       "5065619                         0                       0               0  \n",
       "5073647                         0                       0               0  \n",
       "\n",
       "[319 rows x 59 columns]"
      ]
     },
     "execution_count": 41,
     "metadata": {},
     "output_type": "execute_result"
    }
   ],
   "source": [
    "mulheres_cegueira"
   ]
  },
  {
   "cell_type": "code",
   "execution_count": 47,
   "metadata": {},
   "outputs": [],
   "source": [
    "colunasSelecionadas = ['TP_SEXO', 'NU_NOTA_REDACAO']"
   ]
  },
  {
   "cell_type": "code",
   "execution_count": 50,
   "metadata": {},
   "outputs": [],
   "source": [
    "microdadosSelecionadosRedacao = microdadosEnem.filter(items=colunasSelecionadas)"
   ]
  },
  {
   "cell_type": "raw",
   "metadata": {},
   "source": []
  },
  {
   "cell_type": "code",
   "execution_count": 52,
   "metadata": {},
   "outputs": [
    {
     "data": {
      "text/html": [
       "<div>\n",
       "<style scoped>\n",
       "    .dataframe tbody tr th:only-of-type {\n",
       "        vertical-align: middle;\n",
       "    }\n",
       "\n",
       "    .dataframe tbody tr th {\n",
       "        vertical-align: top;\n",
       "    }\n",
       "\n",
       "    .dataframe thead th {\n",
       "        text-align: right;\n",
       "    }\n",
       "</style>\n",
       "<table border=\"1\" class=\"dataframe\">\n",
       "  <thead>\n",
       "    <tr style=\"text-align: right;\">\n",
       "      <th></th>\n",
       "      <th>TP_SEXO</th>\n",
       "      <th>NU_NOTA_REDACAO</th>\n",
       "    </tr>\n",
       "  </thead>\n",
       "  <tbody>\n",
       "    <tr>\n",
       "      <th>0</th>\n",
       "      <td>M</td>\n",
       "      <td>780.0</td>\n",
       "    </tr>\n",
       "    <tr>\n",
       "      <th>1</th>\n",
       "      <td>F</td>\n",
       "      <td>600.0</td>\n",
       "    </tr>\n",
       "    <tr>\n",
       "      <th>2</th>\n",
       "      <td>F</td>\n",
       "      <td>640.0</td>\n",
       "    </tr>\n",
       "    <tr>\n",
       "      <th>3</th>\n",
       "      <td>M</td>\n",
       "      <td>NaN</td>\n",
       "    </tr>\n",
       "    <tr>\n",
       "      <th>4</th>\n",
       "      <td>M</td>\n",
       "      <td>NaN</td>\n",
       "    </tr>\n",
       "  </tbody>\n",
       "</table>\n",
       "</div>"
      ],
      "text/plain": [
       "  TP_SEXO  NU_NOTA_REDACAO\n",
       "0       M            780.0\n",
       "1       F            600.0\n",
       "2       F            640.0\n",
       "3       M              NaN\n",
       "4       M              NaN"
      ]
     },
     "execution_count": 52,
     "metadata": {},
     "output_type": "execute_result"
    }
   ],
   "source": [
    "microdadosSelecionadosRedacao.head()"
   ]
  },
  {
   "cell_type": "code",
   "execution_count": 53,
   "metadata": {},
   "outputs": [],
   "source": [
    "microdadosSelecionadosRedacao = microdadosSelecionadosRedacao.dropna()\n",
    "#remove os NaN do dataset"
   ]
  },
  {
   "cell_type": "code",
   "execution_count": 54,
   "metadata": {},
   "outputs": [
    {
     "data": {
      "text/html": [
       "<div>\n",
       "<style scoped>\n",
       "    .dataframe tbody tr th:only-of-type {\n",
       "        vertical-align: middle;\n",
       "    }\n",
       "\n",
       "    .dataframe tbody tr th {\n",
       "        vertical-align: top;\n",
       "    }\n",
       "\n",
       "    .dataframe thead th {\n",
       "        text-align: right;\n",
       "    }\n",
       "</style>\n",
       "<table border=\"1\" class=\"dataframe\">\n",
       "  <thead>\n",
       "    <tr style=\"text-align: right;\">\n",
       "      <th></th>\n",
       "      <th>TP_SEXO</th>\n",
       "      <th>NU_NOTA_REDACAO</th>\n",
       "    </tr>\n",
       "  </thead>\n",
       "  <tbody>\n",
       "    <tr>\n",
       "      <th>0</th>\n",
       "      <td>M</td>\n",
       "      <td>780.0</td>\n",
       "    </tr>\n",
       "    <tr>\n",
       "      <th>1</th>\n",
       "      <td>F</td>\n",
       "      <td>600.0</td>\n",
       "    </tr>\n",
       "    <tr>\n",
       "      <th>2</th>\n",
       "      <td>F</td>\n",
       "      <td>640.0</td>\n",
       "    </tr>\n",
       "    <tr>\n",
       "      <th>5</th>\n",
       "      <td>M</td>\n",
       "      <td>580.0</td>\n",
       "    </tr>\n",
       "    <tr>\n",
       "      <th>6</th>\n",
       "      <td>F</td>\n",
       "      <td>360.0</td>\n",
       "    </tr>\n",
       "  </tbody>\n",
       "</table>\n",
       "</div>"
      ],
      "text/plain": [
       "  TP_SEXO  NU_NOTA_REDACAO\n",
       "0       M            780.0\n",
       "1       F            600.0\n",
       "2       F            640.0\n",
       "5       M            580.0\n",
       "6       F            360.0"
      ]
     },
     "execution_count": 54,
     "metadata": {},
     "output_type": "execute_result"
    }
   ],
   "source": [
    "microdadosSelecionadosRedacao.head()"
   ]
  },
  {
   "cell_type": "code",
   "execution_count": 56,
   "metadata": {},
   "outputs": [
    {
     "data": {
      "text/html": [
       "<div>\n",
       "<style scoped>\n",
       "    .dataframe tbody tr th:only-of-type {\n",
       "        vertical-align: middle;\n",
       "    }\n",
       "\n",
       "    .dataframe tbody tr th {\n",
       "        vertical-align: top;\n",
       "    }\n",
       "\n",
       "    .dataframe thead th {\n",
       "        text-align: right;\n",
       "    }\n",
       "</style>\n",
       "<table border=\"1\" class=\"dataframe\">\n",
       "  <thead>\n",
       "    <tr style=\"text-align: right;\">\n",
       "      <th></th>\n",
       "      <th>NU_NOTA_REDACAO</th>\n",
       "    </tr>\n",
       "    <tr>\n",
       "      <th>TP_SEXO</th>\n",
       "      <th></th>\n",
       "    </tr>\n",
       "  </thead>\n",
       "  <tbody>\n",
       "    <tr>\n",
       "      <th>F</th>\n",
       "      <td>2336431</td>\n",
       "    </tr>\n",
       "    <tr>\n",
       "      <th>M</th>\n",
       "      <td>1586713</td>\n",
       "    </tr>\n",
       "  </tbody>\n",
       "</table>\n",
       "</div>"
      ],
      "text/plain": [
       "         NU_NOTA_REDACAO\n",
       "TP_SEXO                 \n",
       "F                2336431\n",
       "M                1586713"
      ]
     },
     "execution_count": 56,
     "metadata": {},
     "output_type": "execute_result"
    }
   ],
   "source": [
    "microdadosSelecionadosRedacao.groupby('TP_SEXO').count()\n",
    "#aqui uso o groupby do pandas para agrupar por sexo e o count para contar os registros"
   ]
  },
  {
   "cell_type": "code",
   "execution_count": 57,
   "metadata": {},
   "outputs": [
    {
     "data": {
      "text/html": [
       "<div>\n",
       "<style scoped>\n",
       "    .dataframe tbody tr th:only-of-type {\n",
       "        vertical-align: middle;\n",
       "    }\n",
       "\n",
       "    .dataframe tbody tr th {\n",
       "        vertical-align: top;\n",
       "    }\n",
       "\n",
       "    .dataframe thead th {\n",
       "        text-align: right;\n",
       "    }\n",
       "</style>\n",
       "<table border=\"1\" class=\"dataframe\">\n",
       "  <thead>\n",
       "    <tr style=\"text-align: right;\">\n",
       "      <th></th>\n",
       "      <th>NU_NOTA_REDACAO</th>\n",
       "    </tr>\n",
       "    <tr>\n",
       "      <th>TP_SEXO</th>\n",
       "      <th></th>\n",
       "    </tr>\n",
       "  </thead>\n",
       "  <tbody>\n",
       "    <tr>\n",
       "      <th>F</th>\n",
       "      <td>1000.0</td>\n",
       "    </tr>\n",
       "    <tr>\n",
       "      <th>M</th>\n",
       "      <td>1000.0</td>\n",
       "    </tr>\n",
       "  </tbody>\n",
       "</table>\n",
       "</div>"
      ],
      "text/plain": [
       "         NU_NOTA_REDACAO\n",
       "TP_SEXO                 \n",
       "F                 1000.0\n",
       "M                 1000.0"
      ]
     },
     "execution_count": 57,
     "metadata": {},
     "output_type": "execute_result"
    }
   ],
   "source": [
    "microdadosSelecionadosRedacao.groupby('TP_SEXO').max()\n",
    "#aqui mostrará a maior nota do sexo F e M"
   ]
  },
  {
   "cell_type": "code",
   "execution_count": 59,
   "metadata": {},
   "outputs": [
    {
     "data": {
      "text/html": [
       "<div>\n",
       "<style scoped>\n",
       "    .dataframe tbody tr th:only-of-type {\n",
       "        vertical-align: middle;\n",
       "    }\n",
       "\n",
       "    .dataframe tbody tr th {\n",
       "        vertical-align: top;\n",
       "    }\n",
       "\n",
       "    .dataframe thead th {\n",
       "        text-align: right;\n",
       "    }\n",
       "</style>\n",
       "<table border=\"1\" class=\"dataframe\">\n",
       "  <thead>\n",
       "    <tr style=\"text-align: right;\">\n",
       "      <th></th>\n",
       "      <th>NU_NOTA_REDACAO</th>\n",
       "    </tr>\n",
       "    <tr>\n",
       "      <th>TP_SEXO</th>\n",
       "      <th></th>\n",
       "    </tr>\n",
       "  </thead>\n",
       "  <tbody>\n",
       "    <tr>\n",
       "      <th>F</th>\n",
       "      <td>0.0</td>\n",
       "    </tr>\n",
       "    <tr>\n",
       "      <th>M</th>\n",
       "      <td>0.0</td>\n",
       "    </tr>\n",
       "  </tbody>\n",
       "</table>\n",
       "</div>"
      ],
      "text/plain": [
       "         NU_NOTA_REDACAO\n",
       "TP_SEXO                 \n",
       "F                    0.0\n",
       "M                    0.0"
      ]
     },
     "execution_count": 59,
     "metadata": {},
     "output_type": "execute_result"
    }
   ],
   "source": [
    "microdadosSelecionadosRedacao.groupby('TP_SEXO').min()\n",
    "#aqui mostrará a menor nota do sexo F e M"
   ]
  },
  {
   "cell_type": "code",
   "execution_count": 64,
   "metadata": {},
   "outputs": [
    {
     "data": {
      "text/html": [
       "<div>\n",
       "<style scoped>\n",
       "    .dataframe tbody tr th:only-of-type {\n",
       "        vertical-align: middle;\n",
       "    }\n",
       "\n",
       "    .dataframe tbody tr th {\n",
       "        vertical-align: top;\n",
       "    }\n",
       "\n",
       "    .dataframe thead th {\n",
       "        text-align: right;\n",
       "    }\n",
       "</style>\n",
       "<table border=\"1\" class=\"dataframe\">\n",
       "  <thead>\n",
       "    <tr style=\"text-align: right;\">\n",
       "      <th></th>\n",
       "      <th>NU_NOTA_REDACAO</th>\n",
       "    </tr>\n",
       "    <tr>\n",
       "      <th>TP_SEXO</th>\n",
       "      <th></th>\n",
       "    </tr>\n",
       "  </thead>\n",
       "  <tbody>\n",
       "    <tr>\n",
       "      <th>F</th>\n",
       "      <td>40.0</td>\n",
       "    </tr>\n",
       "    <tr>\n",
       "      <th>M</th>\n",
       "      <td>40.0</td>\n",
       "    </tr>\n",
       "  </tbody>\n",
       "</table>\n",
       "</div>"
      ],
      "text/plain": [
       "         NU_NOTA_REDACAO\n",
       "TP_SEXO                 \n",
       "F                   40.0\n",
       "M                   40.0"
      ]
     },
     "execution_count": 64,
     "metadata": {},
     "output_type": "execute_result"
    }
   ],
   "source": [
    "microdadosSelecionadosRedacao[microdadosSelecionadosRedacao.NU_NOTA_REDACAO > 0].groupby('TP_SEXO').min()\n",
    "#aqui eu filtro os dados deixando a nota mínima maio que 0, e agrupo"
   ]
  },
  {
   "cell_type": "code",
   "execution_count": 68,
   "metadata": {},
   "outputs": [
    {
     "data": {
      "text/html": [
       "<div>\n",
       "<style scoped>\n",
       "    .dataframe tbody tr th:only-of-type {\n",
       "        vertical-align: middle;\n",
       "    }\n",
       "\n",
       "    .dataframe tbody tr th {\n",
       "        vertical-align: top;\n",
       "    }\n",
       "\n",
       "    .dataframe thead th {\n",
       "        text-align: right;\n",
       "    }\n",
       "</style>\n",
       "<table border=\"1\" class=\"dataframe\">\n",
       "  <thead>\n",
       "    <tr style=\"text-align: right;\">\n",
       "      <th></th>\n",
       "      <th>NU_NOTA_REDACAO</th>\n",
       "    </tr>\n",
       "    <tr>\n",
       "      <th>TP_SEXO</th>\n",
       "      <th></th>\n",
       "    </tr>\n",
       "  </thead>\n",
       "  <tbody>\n",
       "    <tr>\n",
       "      <th>F</th>\n",
       "      <td>980.0</td>\n",
       "    </tr>\n",
       "    <tr>\n",
       "      <th>M</th>\n",
       "      <td>980.0</td>\n",
       "    </tr>\n",
       "  </tbody>\n",
       "</table>\n",
       "</div>"
      ],
      "text/plain": [
       "         NU_NOTA_REDACAO\n",
       "TP_SEXO                 \n",
       "F                  980.0\n",
       "M                  980.0"
      ]
     },
     "execution_count": 68,
     "metadata": {},
     "output_type": "execute_result"
    }
   ],
   "source": [
    "microdadosSelecionadosRedacao[microdadosSelecionadosRedacao.NU_NOTA_REDACAO < 1000].groupby('TP_SEXO').max()\n",
    "#aqui eu filtro os dados deixando a noa maior que seja menor que 1000 e agrupo"
   ]
  },
  {
   "cell_type": "code",
   "execution_count": 70,
   "metadata": {},
   "outputs": [
    {
     "data": {
      "text/html": [
       "<div>\n",
       "<style scoped>\n",
       "    .dataframe tbody tr th:only-of-type {\n",
       "        vertical-align: middle;\n",
       "    }\n",
       "\n",
       "    .dataframe tbody tr th {\n",
       "        vertical-align: top;\n",
       "    }\n",
       "\n",
       "    .dataframe thead th {\n",
       "        text-align: right;\n",
       "    }\n",
       "</style>\n",
       "<table border=\"1\" class=\"dataframe\">\n",
       "  <thead>\n",
       "    <tr style=\"text-align: right;\">\n",
       "      <th></th>\n",
       "      <th>NU_NOTA_REDACAO</th>\n",
       "    </tr>\n",
       "    <tr>\n",
       "      <th>TP_SEXO</th>\n",
       "      <th></th>\n",
       "    </tr>\n",
       "  </thead>\n",
       "  <tbody>\n",
       "    <tr>\n",
       "      <th>F</th>\n",
       "      <td>577.159368</td>\n",
       "    </tr>\n",
       "    <tr>\n",
       "      <th>M</th>\n",
       "      <td>562.396035</td>\n",
       "    </tr>\n",
       "  </tbody>\n",
       "</table>\n",
       "</div>"
      ],
      "text/plain": [
       "         NU_NOTA_REDACAO\n",
       "TP_SEXO                 \n",
       "F             577.159368\n",
       "M             562.396035"
      ]
     },
     "execution_count": 70,
     "metadata": {},
     "output_type": "execute_result"
    }
   ],
   "source": [
    "microdadosSelecionadosRedacao.groupby('TP_SEXO').mean()\n",
    "#aqui eu agrupo pela média das notas usando o mean()"
   ]
  },
  {
   "cell_type": "code",
   "execution_count": 71,
   "metadata": {},
   "outputs": [
    {
     "data": {
      "text/html": [
       "<div>\n",
       "<style scoped>\n",
       "    .dataframe tbody tr th:only-of-type {\n",
       "        vertical-align: middle;\n",
       "    }\n",
       "\n",
       "    .dataframe tbody tr th {\n",
       "        vertical-align: top;\n",
       "    }\n",
       "\n",
       "    .dataframe thead th {\n",
       "        text-align: right;\n",
       "    }\n",
       "</style>\n",
       "<table border=\"1\" class=\"dataframe\">\n",
       "  <thead>\n",
       "    <tr style=\"text-align: right;\">\n",
       "      <th></th>\n",
       "      <th>NU_NOTA_REDACAO</th>\n",
       "    </tr>\n",
       "    <tr>\n",
       "      <th>TP_SEXO</th>\n",
       "      <th></th>\n",
       "    </tr>\n",
       "  </thead>\n",
       "  <tbody>\n",
       "    <tr>\n",
       "      <th>F</th>\n",
       "      <td>580.0</td>\n",
       "    </tr>\n",
       "    <tr>\n",
       "      <th>M</th>\n",
       "      <td>580.0</td>\n",
       "    </tr>\n",
       "  </tbody>\n",
       "</table>\n",
       "</div>"
      ],
      "text/plain": [
       "         NU_NOTA_REDACAO\n",
       "TP_SEXO                 \n",
       "F                  580.0\n",
       "M                  580.0"
      ]
     },
     "execution_count": 71,
     "metadata": {},
     "output_type": "execute_result"
    }
   ],
   "source": [
    "microdadosSelecionadosRedacao.groupby('TP_SEXO').median()\n",
    "#aqui calculo a mediana das notas usando a função median()"
   ]
  },
  {
   "cell_type": "code",
   "execution_count": 72,
   "metadata": {},
   "outputs": [
    {
     "data": {
      "text/plain": [
       "TP_SEXO\n",
       "F    [[AxesSubplot(0.125,0.125;0.775x0.755)]]\n",
       "M    [[AxesSubplot(0.125,0.125;0.775x0.755)]]\n",
       "dtype: object"
      ]
     },
     "execution_count": 72,
     "metadata": {},
     "output_type": "execute_result"
    },
    {
     "data": {
      "image/png": "[encoded data removed]",
      "text/plain": [
       "<Figure size 432x288 with 1 Axes>"
      ]
     },
     "metadata": {
      "needs_background": "light"
     },
     "output_type": "display_data"
    },
    {
     "data": {
      "image/png": "[encoded data removed]",
      "text/plain": [
       "<Figure size 432x288 with 1 Axes>"
      ]
     },
     "metadata": {
      "needs_background": "light"
     },
     "output_type": "display_data"
    }
   ],
   "source": [
    "microdadosSelecionadosRedacao.groupby('TP_SEXO').hist()\n",
    "#aqui crio um histograma para o sexo F e M"
   ]
  },
  {
   "cell_type": "code",
   "execution_count": 73,
   "metadata": {},
   "outputs": [
    {
     "data": {
      "text/html": [
       "<div>\n",
       "<style scoped>\n",
       "    .dataframe tbody tr th:only-of-type {\n",
       "        vertical-align: middle;\n",
       "    }\n",
       "\n",
       "    .dataframe tbody tr th {\n",
       "        vertical-align: top;\n",
       "    }\n",
       "\n",
       "    .dataframe thead tr th {\n",
       "        text-align: left;\n",
       "    }\n",
       "\n",
       "    .dataframe thead tr:last-of-type th {\n",
       "        text-align: right;\n",
       "    }\n",
       "</style>\n",
       "<table border=\"1\" class=\"dataframe\">\n",
       "  <thead>\n",
       "    <tr>\n",
       "      <th></th>\n",
       "      <th colspan=\"8\" halign=\"left\">NU_NOTA_REDACAO</th>\n",
       "    </tr>\n",
       "    <tr>\n",
       "      <th></th>\n",
       "      <th>count</th>\n",
       "      <th>mean</th>\n",
       "      <th>std</th>\n",
       "      <th>min</th>\n",
       "      <th>25%</th>\n",
       "      <th>50%</th>\n",
       "      <th>75%</th>\n",
       "      <th>max</th>\n",
       "    </tr>\n",
       "    <tr>\n",
       "      <th>TP_SEXO</th>\n",
       "      <th></th>\n",
       "      <th></th>\n",
       "      <th></th>\n",
       "      <th></th>\n",
       "      <th></th>\n",
       "      <th></th>\n",
       "      <th></th>\n",
       "      <th></th>\n",
       "    </tr>\n",
       "  </thead>\n",
       "  <tbody>\n",
       "    <tr>\n",
       "      <th>F</th>\n",
       "      <td>2336431.0</td>\n",
       "      <td>577.159368</td>\n",
       "      <td>187.536483</td>\n",
       "      <td>0.0</td>\n",
       "      <td>480.0</td>\n",
       "      <td>580.0</td>\n",
       "      <td>680.0</td>\n",
       "      <td>1000.0</td>\n",
       "    </tr>\n",
       "    <tr>\n",
       "      <th>M</th>\n",
       "      <td>1586713.0</td>\n",
       "      <td>562.396035</td>\n",
       "      <td>190.214499</td>\n",
       "      <td>0.0</td>\n",
       "      <td>480.0</td>\n",
       "      <td>580.0</td>\n",
       "      <td>660.0</td>\n",
       "      <td>1000.0</td>\n",
       "    </tr>\n",
       "  </tbody>\n",
       "</table>\n",
       "</div>"
      ],
      "text/plain": [
       "        NU_NOTA_REDACAO                                                    \\\n",
       "                  count        mean         std  min    25%    50%    75%   \n",
       "TP_SEXO                                                                     \n",
       "F             2336431.0  577.159368  187.536483  0.0  480.0  580.0  680.0   \n",
       "M             1586713.0  562.396035  190.214499  0.0  480.0  580.0  660.0   \n",
       "\n",
       "                 \n",
       "            max  \n",
       "TP_SEXO          \n",
       "F        1000.0  \n",
       "M        1000.0  "
      ]
     },
     "execution_count": 73,
     "metadata": {},
     "output_type": "execute_result"
    }
   ],
   "source": [
    "microdadosSelecionadosRedacao.groupby('TP_SEXO').describe()"
   ]
  },
  {
   "cell_type": "code",
   "execution_count": null,
   "metadata": {},
   "outputs": [],
   "source": []
  }
 ],
 "metadata": {
  "kernelspec": {
   "display_name": "Python 3",
   "language": "python",
   "name": "python3"
  },
  "language_info": {
   "codemirror_mode": {
    "name": "ipython",
    "version": 3
   },
   "file_extension": ".py",
   "mimetype": "text/x-python",
   "name": "python",
   "nbconvert_exporter": "python",
   "pygments_lexer": "ipython3",
   "version": "3.9.0"
  }
 },
 "nbformat": 4,
 "nbformat_minor": 4
}
